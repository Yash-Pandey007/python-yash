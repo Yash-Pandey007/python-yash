{
 "cells": [
  {
   "cell_type": "markdown",
   "id": "6858973a-95fc-430e-a949-e968a52c9e2d",
   "metadata": {},
   "source": [
    "# oprator and conditional statement"
   ]
  },
  {
   "cell_type": "code",
   "execution_count": 7,
   "id": "5c9a8e5d-013b-4d69-9eea-b741eab7f188",
   "metadata": {},
   "outputs": [],
   "source": [
    "x=10\n",
    "y=3\n",
    "z=1\n",
    "q=0\n",
    "while x<y:\n",
    "    i((x-y)+z)\n",
    "    q+=1\n",
    "    print(i,q)"
   ]
  },
  {
   "cell_type": "code",
   "execution_count": null,
   "id": "69870c86-7e86-4dd9-847e-59eb0141b154",
   "metadata": {},
   "outputs": [],
   "source": [
    "x= int(input(\"units\"))\n",
    "y= int(input(\"price\"))\n",
    "z= x*y\n",
    "if z>2000:\n",
    "    z=z"
   ]
  }
 ],
 "metadata": {
  "kernelspec": {
   "display_name": "Python 3 (ipykernel)",
   "language": "python",
   "name": "python3"
  },
  "language_info": {
   "codemirror_mode": {
    "name": "ipython",
    "version": 3
   },
   "file_extension": ".py",
   "mimetype": "text/x-python",
   "name": "python",
   "nbconvert_exporter": "python",
   "pygments_lexer": "ipython3",
   "version": "3.11.9"
  }
 },
 "nbformat": 4,
 "nbformat_minor": 5
}
