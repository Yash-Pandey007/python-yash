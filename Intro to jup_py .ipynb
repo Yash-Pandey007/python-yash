{
 "cells": [
  {
   "cell_type": "markdown",
   "id": "b6de21f2-8184-44d8-8181-7bc885f618d6",
   "metadata": {},
   "source": [
    "# Demo lecture for pyhon"
   ]
  },
  {
   "cell_type": "markdown",
   "id": "3f32b262-638d-4f25-b5c9-fcc6c77aab17",
   "metadata": {},
   "source": [
    "## Demo lecture for pyhon"
   ]
  },
  {
   "cell_type": "markdown",
   "id": "f1d98e86-f0e0-4f9d-b314-3e813e9cfcab",
   "metadata": {},
   "source": [
    "- bullet 1 \n",
    "- bullet 2\n",
    "- bullet 3\n",
    "- bullet 4"
   ]
  },
  {
   "cell_type": "code",
   "execution_count": 9,
   "id": "c61a6d4f-5621-4d94-9623-85d422d4f1a2",
   "metadata": {},
   "outputs": [
    {
     "name": "stdout",
     "output_type": "stream",
     "text": [
      "Hello World\n"
     ]
    }
   ],
   "source": [
    "print(\"Hello World\")"
   ]
  },
  {
   "cell_type": "code",
   "execution_count": null,
   "id": "52f433c5-a986-45af-adb1-ad7d244edc5f",
   "metadata": {},
   "outputs": [],
   "source": []
  },
  {
   "cell_type": "code",
   "execution_count": 10,
   "id": "98677428-eb00-4aca-be9c-5dad6c3d70ba",
   "metadata": {},
   "outputs": [
    {
     "name": "stdout",
     "output_type": "stream",
     "text": [
      "hi yash\n"
     ]
    }
   ],
   "source": [
    "print (\"hi yash\")"
   ]
  },
  {
   "cell_type": "code",
   "execution_count": null,
   "id": "769f95d4-0450-4cc7-bfef-244ae6af4c7e",
   "metadata": {},
   "outputs": [],
   "source": []
  }
 ],
 "metadata": {
  "kernelspec": {
   "display_name": "Python 3 (ipykernel)",
   "language": "python",
   "name": "python3"
  },
  "language_info": {
   "codemirror_mode": {
    "name": "ipython",
    "version": 3
   },
   "file_extension": ".py",
   "mimetype": "text/x-python",
   "name": "python",
   "nbconvert_exporter": "python",
   "pygments_lexer": "ipython3",
   "version": "3.11.9"
  }
 },
 "nbformat": 4,
 "nbformat_minor": 5
}
