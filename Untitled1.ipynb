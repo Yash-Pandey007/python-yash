{
 "cells": [
  {
   "cell_type": "code",
   "execution_count": 5,
   "id": "adc43748-75c3-4a18-b791-38129bc5b005",
   "metadata": {},
   "outputs": [
    {
     "name": "stdout",
     "output_type": "stream",
     "text": [
      "a\n",
      "n\n",
      "i\n",
      "k\n",
      "e\n",
      "t\n"
     ]
    }
   ],
   "source": [
    "name=\"aniket\"\n",
    "for i in name:\n",
    "    if i == \"e\":\n",
    "        print(i) "
   ]
  },
  {
   "cell_type": "code",
   "execution_count": 6,
   "id": "1e383346-3ba5-40b8-9602-10fccd5164f1",
   "metadata": {},
   "outputs": [
    {
     "name": "stdout",
     "output_type": "stream",
     "text": [
      "6\n",
      "9\n",
      "12\n",
      "15\n",
      "18\n"
     ]
    }
   ],
   "source": [
    "numbers = 2,3,4,5,6\n",
    "for i in numbers:\n",
    "    i *= 3\n",
    "    print (i)"
   ]
  },
  {
   "cell_type": "code",
   "execution_count": 7,
   "id": "dad5c8f4-025e-41c2-a232-db4b406442d0",
   "metadata": {},
   "outputs": [
    {
     "name": "stdout",
     "output_type": "stream",
     "text": [
      "0\n",
      "1\n",
      "2\n",
      "3\n",
      "4\n",
      "5\n",
      "6\n",
      "7\n",
      "8\n",
      "9\n"
     ]
    }
   ],
   "source": [
    "for i in range(10):\n",
    "    print(i)"
   ]
  },
  {
   "cell_type": "code",
   "execution_count": 10,
   "id": "c9222e2c-9190-4689-809c-721dde145012",
   "metadata": {},
   "outputs": [
    {
     "name": "stdout",
     "output_type": "stream",
     "text": [
      "34\n",
      "68\n",
      "102\n",
      "136\n",
      "170\n",
      "204\n",
      "238\n",
      "272\n",
      "306\n",
      "340\n"
     ]
    }
   ],
   "source": [
    "for i in range(34,341,34):\n",
    "    print(i)"
   ]
  },
  {
   "cell_type": "code",
   "execution_count": 11,
   "id": "d99af8f1-a34f-4761-a46d-fc55161fb3a8",
   "metadata": {},
   "outputs": [
    {
     "name": "stdout",
     "output_type": "stream",
     "text": [
      "120\n",
      "121\n",
      "122\n",
      "123\n",
      "124\n",
      "125\n",
      "126\n",
      "127\n",
      "128\n",
      "129\n",
      "130\n",
      "131\n",
      "132\n",
      "133\n",
      "134\n",
      "135\n",
      "136\n",
      "137\n",
      "138\n",
      "139\n",
      "140\n",
      "141\n",
      "142\n",
      "143\n",
      "144\n",
      "145\n",
      "146\n",
      "147\n",
      "148\n",
      "149\n",
      "150\n",
      "151\n",
      "152\n",
      "153\n",
      "154\n",
      "155\n",
      "156\n",
      "157\n",
      "158\n",
      "159\n",
      "160\n",
      "161\n",
      "162\n",
      "163\n",
      "164\n",
      "165\n",
      "166\n",
      "167\n",
      "168\n",
      "169\n",
      "170\n",
      "171\n",
      "172\n",
      "173\n",
      "174\n",
      "175\n",
      "176\n",
      "177\n",
      "178\n",
      "179\n",
      "180\n",
      "181\n",
      "182\n",
      "183\n",
      "184\n",
      "185\n",
      "186\n",
      "187\n",
      "188\n",
      "189\n",
      "190\n",
      "191\n",
      "192\n",
      "193\n",
      "194\n",
      "195\n",
      "196\n",
      "197\n",
      "198\n",
      "199\n",
      "200\n"
     ]
    }
   ],
   "source": [
    "for i in range(120,201):\n",
    "    print(i)"
   ]
  },
  {
   "cell_type": "code",
   "execution_count": 12,
   "id": "0d770590-5725-401a-bbd3-5f788ff5f4d8",
   "metadata": {},
   "outputs": [
    {
     "name": "stdout",
     "output_type": "stream",
     "text": [
      "34\n",
      "68\n",
      "102\n",
      "136\n",
      "170\n",
      "204\n",
      "238\n",
      "272\n",
      "306\n",
      "340\n"
     ]
    }
   ],
   "source": [
    "for i in range(34,341,34):\n",
    "    print(i)"
   ]
  },
  {
   "cell_type": "code",
   "execution_count": 15,
   "id": "2aefbfdf-95eb-470e-9d54-88194629059f",
   "metadata": {},
   "outputs": [
    {
     "name": "stdout",
     "output_type": "stream",
     "text": [
      "2 3 5 7 "
     ]
    }
   ],
   "source": [
    "def isPrime(n):\n",
    "  #since 0 and 1 is not prime return false.\n",
    "    if(n==1 or n==0):  return False\n",
    "  \n",
    "  #Run a loop from 2 to n-1\n",
    "    for i in range(2,n):\n",
    "    #if the number is divisible by i, then n is not a prime number.\n",
    "        if(n%i==0):\n",
    "            return False\n",
    "  \n",
    "  #otherwise, n is prime number.\n",
    "    return True\n",
    "\n",
    "\n",
    "\n",
    "# Driver code\n",
    "N = 10;\n",
    "#check for every number from 1 to N\n",
    "for i in range(1,N+1):\n",
    "  #check if current number is prime\n",
    "    if(isPrime(i)):\n",
    "        print(i,end=\" \")"
   ]
  },
  {
   "cell_type": "code",
   "execution_count": 30,
   "id": "eccc9770-8620-41b4-9ace-96042274f767",
   "metadata": {},
   "outputs": [
    {
     "name": "stdout",
     "output_type": "stream",
     "text": [
      "20\n",
      "18\n",
      "16\n",
      "14\n",
      "12\n",
      "10\n",
      "8\n",
      "6\n",
      "4\n",
      "2\n"
     ]
    }
   ],
   "source": [
    "N=1\n",
    "for i in range(20,N-1,-2):\n",
    "    print(i)"
   ]
  },
  {
   "cell_type": "code",
   "execution_count": 27,
   "id": "15023e26-b88e-44fe-bfec-dbf2dd70ccd1",
   "metadata": {},
   "outputs": [],
   "source": [
    "x = 10\n",
    "y = 3\n",
    "z = 1\n",
    "q = 0\n",
    "\n",
    "while x < y:\n",
    "    i = (x - y) + z\n",
    "    q += 1\n",
    "    print(i, q)"
   ]
  },
  {
   "cell_type": "code",
   "execution_count": 36,
   "id": "72834480-df5a-4eab-9869-70f77141f5d5",
   "metadata": {},
   "outputs": [
    {
     "name": "stdin",
     "output_type": "stream",
     "text": [
      "Enter the number for table 35\n",
      "Enter the number till 10\n"
     ]
    },
    {
     "name": "stdout",
     "output_type": "stream",
     "text": [
      "35*1= 35\n",
      "35*2= 70\n",
      "35*3= 105\n",
      "35*4= 140\n",
      "35*5= 175\n",
      "35*6= 210\n",
      "35*7= 245\n",
      "35*8= 280\n",
      "35*9= 315\n",
      "35*10= 350\n"
     ]
    }
   ],
   "source": [
    "N=int(input(\"Enter the number for table\"))\n",
    "y=int(input(\"Enter the number till\"))\n",
    "for i in range(1,y+1):\n",
    "    print(f\"{N}*{i}=\",i*N)"
   ]
  },
  {
   "cell_type": "code",
   "execution_count": 43,
   "id": "dee7da05-70e5-40e1-a1e6-cb13bc3ec776",
   "metadata": {},
   "outputs": [
    {
     "name": "stdout",
     "output_type": "stream",
     "text": [
      "55\n"
     ]
    }
   ],
   "source": [
    "n=0\n",
    "for i in range (1,11):\n",
    "    n+=i\n",
    "print(n)"
   ]
  },
  {
   "cell_type": "code",
   "execution_count": 44,
   "id": "df657863-ea20-4e52-b93c-6738141d219b",
   "metadata": {},
   "outputs": [
    {
     "name": "stdin",
     "output_type": "stream",
     "text": [
      "enter the number of input you want 5\n",
      "enter your number 24\n",
      "enter your number 45\n",
      "enter your number 67\n",
      "enter your number 12\n",
      "enter your number 34\n"
     ]
    },
    {
     "name": "stdout",
     "output_type": "stream",
     "text": [
      "the greatest number is: 67\n"
     ]
    }
   ],
   "source": [
    "n=0\n",
    "z=int(input(\"enter the number of input you want\"))\n",
    "for i in range(z):\n",
    "    x=int(input(\"enter your number\"))\n",
    "    if x>n:\n",
    "        n=x\n",
    "print(\"the greatest number is:\",n)"
   ]
  },
  {
   "cell_type": "code",
   "execution_count": 48,
   "id": "76760f4b-8948-45ce-a799-3cdaea3f0cee",
   "metadata": {},
   "outputs": [
    {
     "name": "stdin",
     "output_type": "stream",
     "text": [
      "enter the number of input you want 67\n",
      "enter the number of input you want 34\n",
      "enter the number of input you want 37\n"
     ]
    },
    {
     "name": "stdout",
     "output_type": "stream",
     "text": [
      "67\n"
     ]
    }
   ],
   "source": [
    "n=0\n",
    "z=int(input(\"enter the number of input you want\"))\n",
    "x=int(input(\"enter the number of input you want\"))\n",
    "q=int(input(\"enter the number of input you want\"))\n",
    "if z>n:\n",
    "    n=z\n",
    "    print(n)\n",
    "elif x>n:\n",
    "    n=x\n",
    "    print(n)\n",
    "elif q>n:\n",
    "    n=q\n",
    "    print(n)"
   ]
  },
  {
   "cell_type": "code",
   "execution_count": null,
   "id": "7ee863d1-95e2-48cc-999a-24af928437fb",
   "metadata": {},
   "outputs": [],
   "source": []
  }
 ],
 "metadata": {
  "kernelspec": {
   "display_name": "Python 3 (ipykernel)",
   "language": "python",
   "name": "python3"
  },
  "language_info": {
   "codemirror_mode": {
    "name": "ipython",
    "version": 3
   },
   "file_extension": ".py",
   "mimetype": "text/x-python",
   "name": "python",
   "nbconvert_exporter": "python",
   "pygments_lexer": "ipython3",
   "version": "3.11.9"
  }
 },
 "nbformat": 4,
 "nbformat_minor": 5
}
